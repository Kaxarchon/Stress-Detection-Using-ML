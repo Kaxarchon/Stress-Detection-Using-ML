{
 "cells": [
  {
   "cell_type": "code",
   "execution_count": null,
   "id": "62b92327",
   "metadata": {
    "scrolled": true
   },
   "outputs": [],
   "source": [
    "#!/usr/bin/env python\n",
    "# coding: utf-8\n",
    "import numpy as np\n",
    "import pandas as pd"
   ]
  },
  {
   "cell_type": "code",
   "execution_count": null,
   "id": "189c6b02",
   "metadata": {},
   "outputs": [],
   "source": [
    "df=pd.read_csv(\"E:/Stress detection ML Project/week 3/stress.csv\")\n",
    "df.head()\n"
   ]
  },
  {
   "cell_type": "code",
   "execution_count": null,
   "id": "d137e6ce",
   "metadata": {},
   "outputs": [],
   "source": [
    "df.describe()"
   ]
  },
  {
   "cell_type": "code",
   "execution_count": null,
   "id": "e0a41156",
   "metadata": {},
   "outputs": [],
   "source": [
    "df.isnull().sum()"
   ]
  },
  {
   "cell_type": "code",
   "execution_count": null,
   "id": "7796d152",
   "metadata": {},
   "outputs": [],
   "source": [
    "\n",
    "import nltk\n",
    "nltk.download('stopwords')\n",
    "from nltk.corpus import stopwords\n",
    "import re\n",
    "import string\n",
    "stemmer = nltk. SnowballStemmer(\"english\")\n",
    "stopword=set (stopwords . words ( 'english' ))\n",
    "\n",
    "def clean(text):\n",
    "    text = str(text) . lower()  #returns a string where all characters are lower case. Symbols and Numbers are ignored.\n",
    "    text = re. sub('\\[.*?\\]',' ',text)  #substring and returns a string with replaced values.\n",
    "    text = re. sub('https?://\\S+/www\\. \\S+', ' ', text)#whitespace char with pattern\n",
    "    text = re. sub('<. *?>+', ' ', text)#special char enclosed in square brackets\n",
    "    text = re. sub(' [%s]' % re. escape(string. punctuation), ' ', text)#eliminate punctuation from string\n",
    "    text = re. sub(' \\n',' ', text)\n",
    "    text = re. sub(' \\w*\\d\\w*' ,' ', text)#word character ASCII punctuation\n",
    "    text = [word for word in text. split(' ') if word not in stopword]  #removing stopwords\n",
    "    text =\" \". join(text)\n",
    "    text = [stemmer . stem(word) for word in text. split(' ') ]#remove morphological affixes from words\n",
    "    text = \" \". join(text)\n",
    "    return text\n",
    "df [ \"text\"] = df[\"text\"]. apply(clean)"
   ]
  },
  {
   "cell_type": "code",
   "execution_count": null,
   "id": "e7581bb3",
   "metadata": {},
   "outputs": [],
   "source": [
    "import matplotlib. pyplot as plt\n",
    "from wordcloud import WordCloud, STOPWORDS, ImageColorGenerator\n",
    "text = \" \". join(i for i in df. text)\n",
    "stopwords = set (STOPWORDS)\n",
    "wordcloud = WordCloud( stopwords=stopwords,background_color=\"white\") . generate(text)\n",
    "plt. figure(figsize=(10, 15) )\n",
    "plt. imshow(wordcloud )\n",
    "plt. axis(\"off\")\n",
    "plt. show( )\n"
   ]
  },
  {
   "cell_type": "code",
   "execution_count": null,
   "id": "f932765f",
   "metadata": {},
   "outputs": [],
   "source": [
    "from sklearn. feature_extraction. text import CountVectorizer\n",
    "from sklearn. model_selection import train_test_split\n",
    "\n",
    "x = np.array (df[\"text\"])\n",
    "y = np.array (df[\"label\"])\n",
    "\n",
    "cv = CountVectorizer ()\n",
    "X = cv. fit_transform(x)\n",
    "xtrain, xtest, ytrain, ytest = train_test_split(X, y,test_size=0.33)\n"
   ]
  },
  {
   "cell_type": "code",
   "execution_count": null,
   "id": "de9ffb4c",
   "metadata": {},
   "outputs": [],
   "source": [
    "from sklearn.naive_bayes import BernoulliNB\n",
    "model=BernoulliNB()\n",
    "model.fit(xtrain,ytrain)\n"
   ]
  },
  {
   "cell_type": "code",
   "execution_count": null,
   "id": "9ae95710",
   "metadata": {},
   "outputs": [],
   "source": [
    "user=input(\"Enter the text\")\n",
    "data=cv.transform([user]).toarray()\n",
    "output=model.predict(data)\n",
    "print(output)\n"
   ]
  },
  {
   "cell_type": "code",
   "execution_count": null,
   "id": "620bd3dc",
   "metadata": {},
   "outputs": [],
   "source": []
  }
 ],
 "metadata": {
  "kernelspec": {
   "display_name": "Python 3 (ipykernel)",
   "language": "python",
   "name": "python3"
  },
  "language_info": {
   "codemirror_mode": {
    "name": "ipython",
    "version": 3
   },
   "file_extension": ".py",
   "mimetype": "text/x-python",
   "name": "python",
   "nbconvert_exporter": "python",
   "pygments_lexer": "ipython3",
   "version": "3.9.13"
  }
 },
 "nbformat": 4,
 "nbformat_minor": 5
}
